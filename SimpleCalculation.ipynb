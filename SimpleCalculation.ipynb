{
  "nbformat": 4,
  "nbformat_minor": 0,
  "metadata": {
    "colab": {
      "provenance": [],
      "authorship_tag": "ABX9TyPYT3YLJKDP6VwWJFuyF8eb",
      "include_colab_link": true
    },
    "kernelspec": {
      "name": "python3",
      "display_name": "Python 3"
    },
    "language_info": {
      "name": "python"
    }
  },
  "cells": [
    {
      "cell_type": "markdown",
      "metadata": {
        "id": "view-in-github",
        "colab_type": "text"
      },
      "source": [
        "<a href=\"https://colab.research.google.com/github/WaWaWa-www/SimpleCalculation/blob/main/SimpleCalculation.ipynb\" target=\"_parent\"><img src=\"https://colab.research.google.com/assets/colab-badge.svg\" alt=\"Open In Colab\"/></a>"
      ]
    },
    {
      "cell_type": "code",
      "execution_count": null,
      "metadata": {
        "colab": {
          "base_uri": "https://localhost:8080/"
        },
        "id": "LPXN-nn8M4FK",
        "outputId": "264a3540-5db1-4ddf-9f65-cca24759da4a"
      },
      "outputs": [
        {
          "output_type": "stream",
          "name": "stdout",
          "text": [
            "1 + 1\n",
            "2\n",
            "2 - 1\n",
            "1\n",
            "2 * 3\n",
            "6\n"
          ]
        }
      ],
      "source": [
        "while True:\n",
        "  N , M, K = input().split()\n",
        "  N = int(N)\n",
        "  K = int(K)\n",
        "  if M == \"+\":\n",
        "      print(N + K)\n",
        "  elif M == \"-\":\n",
        "      print(N - K)\n",
        "  elif M == \"*\":\n",
        "      print(N * K)\n",
        "  elif M == \"//\":\n",
        "      print(N // K)\n",
        "  elif M == \"%\":\n",
        "      print(N % K)\n",
        "  elif M == \"**\":\n",
        "      print(N ** K)"
      ]
    }
  ]
}